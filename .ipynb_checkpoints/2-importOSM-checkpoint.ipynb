{
 "cells": [
  {
   "cell_type": "code",
   "execution_count": null,
   "metadata": {
    "collapsed": true
   },
   "outputs": [],
   "source": [
    "import xml.parsers.expat\n",
    "import bz2\n",
    "import rtree"
   ]
  },
  {
   "cell_type": "code",
   "execution_count": null,
   "metadata": {
    "collapsed": false
   },
   "outputs": [],
   "source": [
    "currentTreeData = [] # just to initialize\n",
    "idx = rtree.index.Rtree('osmnodes')"
   ]
  },
  {
   "cell_type": "code",
   "execution_count": null,
   "metadata": {
    "collapsed": false
   },
   "outputs": [],
   "source": [
    "def elementReader(filename):\n",
    "    \n",
    "    def gotCompleteEntry(entry):\n",
    "        bbox = (float(entry['meta']['lat']), float(entry['meta']['lon']), float(entry['meta']['lat']), float(entry['meta']['lon']))\n",
    "        idx.insert(int(entry['meta']['id']), (bbox), obj=entry)\n",
    "    \n",
    "    def start_osm_element(name, attrs):\n",
    "        global currentTreeData\n",
    "        if   name == \"node\":\n",
    "            '''start collecting information including all sub-keys'''\n",
    "            currentTreeData = {'meta': attrs, 'tags': {} }\n",
    "        elif name == \"tag\":\n",
    "            '''collect the tag-information'''\n",
    "            key = attrs[u'k']\n",
    "            value = attrs[u'v']\n",
    "            currentTreeData['tags'][key] = value\n",
    "        else:\n",
    "            print(\"uncatched element: {}\".format(name))\n",
    "    \n",
    "    def end_osm_element(name):\n",
    "        global currentTreeData\n",
    "        global entries\n",
    "        \n",
    "        if name == \"node\":\n",
    "            gotCompleteEntry(currentTreeData)\n",
    "        \n",
    "        elif name == \"way\":\n",
    "            # !!!!!!!!!!!!!!!!!!!!!! DIRTY HACK HERE !!!!!!!!!!!!!!!!!!\n",
    "            # !!!!!!!!!!!!!!!!!!!! DO NOT TRY AT HOME !!!!!!!!!!!!!!!!!\n",
    "            couchPusher.finish()\n",
    "            quit()\n",
    "            pass\n",
    "            # !!!!!!!!!!!!!!!!!!!!!!!!!!!!!!!!!!!!!!!!!!!!!!!!!!!!!!!!!\n",
    "            # !!!!!!!!!!!!!!!!!!!!!!!!!!!!!!!!!!!!!!!!!!!!!!!!!!!!!!!!!\n",
    "            \n",
    "        elif name == \"relation\":\n",
    "            pass\n",
    "        \n",
    "        elif name == \"tag\":\n",
    "            pass\n",
    "        \n",
    "        else:\n",
    "            print(\"Unknown element: {}\".format(name))\n",
    "    \n",
    "    def char_osm_data(data):\n",
    "        pass\n",
    "    \n",
    "    osmParser = xml.parsers.expat.ParserCreate()\n",
    "    osmParser.StartElementHandler = start_osm_element\n",
    "    osmParser.EndElementHandler = end_osm_element\n",
    "    #osmParser.CharacterDataHandler = char_osm_data\n",
    "    \n",
    "    if filename[-3:] == 'bz2':\n",
    "        with bz2.open(filename, 'rb') as osmFile:\n",
    "            print(\"start parsing\")\n",
    "            osmParser.ParseFile(osmFile)\n",
    "            print(\"finished parsing\")\n",
    "    else:\n",
    "        with open(filename, 'rb') as osmFile:\n",
    "            print(\"start parsing\")\n",
    "            osmParser.ParseFile(osmFile)\n",
    "            print(\"finished parsing\")\n",
    "    \n",
    "    couchPusher.finish()"
   ]
  },
  {
   "cell_type": "code",
   "execution_count": null,
   "metadata": {
    "collapsed": false
   },
   "outputs": [],
   "source": [
    "elementReader(\"/tmp/vienna-history-151207-soft.osh.bz2\")"
   ]
  },
  {
   "cell_type": "code",
   "execution_count": null,
   "metadata": {
    "collapsed": true
   },
   "outputs": [],
   "source": []
  }
 ],
 "metadata": {
  "kernelspec": {
   "display_name": "Python 3",
   "language": "python",
   "name": "python3"
  },
  "language_info": {
   "codemirror_mode": {
    "name": "ipython",
    "version": 3
   },
   "file_extension": ".py",
   "mimetype": "text/x-python",
   "name": "python",
   "nbconvert_exporter": "python",
   "pygments_lexer": "ipython3",
   "version": "3.4.3"
  }
 },
 "nbformat": 4,
 "nbformat_minor": 0
}
