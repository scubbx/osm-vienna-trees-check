{
 "cells": [
  {
   "cell_type": "markdown",
   "metadata": {},
   "source": [
    "# Database\n",
    "\n",
    "A **CouchDB** database is assumed, which is filled with nodes from a **complete history dump**. This means, that recent OSM data is not enough, also modified or deleted nodes are necessary.\n",
    "The import into a CouchDB database was performed using the script called *osmhistory2couchdb.py*.\n",
    "The import of OGD data was performed using the script called *loadTreesIntoCouchdb.py*.\n",
    "\n",
    "* OSM data has a property of *source = 'osm'*\n",
    "* OGD data has a property of *source = 'ogd'*\n",
    "\n",
    "## Views\n",
    "\n",
    "The database has the following views:\n",
    "\n",
    "### analysis/visible\n",
    "\n",
    "* map:\n",
    "\n",
    "```javascript\n",
    "function(doc) {\n",
    " if (doc.source == \"osm\") {\n",
    "  emit(doc.data.meta.visible, 1);\n",
    " }\n",
    "}\n",
    "```\n",
    "\n",
    "* reduce:\n",
    "\n",
    "```javascript\n",
    "_count\n",
    "```"
   ]
  },
  {
   "cell_type": "code",
   "execution_count": null,
   "metadata": {
    "collapsed": true
   },
   "outputs": [],
   "source": []
  },
  {
   "cell_type": "markdown",
   "metadata": {},
   "source": [
    "For starters, the necessary modules are imported.\n",
    "The **couchdb** module is used for performing queries on the CouchDB databse containing all nodes (even the deleted ones) ever edited in the area of Vienna."
   ]
  },
  {
   "cell_type": "code",
   "execution_count": 1,
   "metadata": {
    "collapsed": true
   },
   "outputs": [],
   "source": [
    "import couchdb"
   ]
  },
  {
   "cell_type": "code",
   "execution_count": null,
   "metadata": {
    "collapsed": true
   },
   "outputs": [],
   "source": []
  }
 ],
 "metadata": {
  "kernelspec": {
   "display_name": "Python 3",
   "language": "python",
   "name": "python3"
  },
  "language_info": {
   "codemirror_mode": {
    "name": "ipython",
    "version": 3
   },
   "file_extension": ".py",
   "mimetype": "text/x-python",
   "name": "python",
   "nbconvert_exporter": "python",
   "pygments_lexer": "ipython3",
   "version": "3.4.3"
  }
 },
 "nbformat": 4,
 "nbformat_minor": 0
}
