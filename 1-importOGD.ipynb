{
 "cells": [
  {
   "cell_type": "code",
   "execution_count": 1,
   "metadata": {
    "collapsed": false
   },
   "outputs": [],
   "source": [
    "import rtree\n",
    "import csv"
   ]
  },
  {
   "cell_type": "code",
   "execution_count": 2,
   "metadata": {
    "collapsed": false
   },
   "outputs": [],
   "source": [
    "idx = rtree.index.Rtree('ogdtrees')"
   ]
  },
  {
   "cell_type": "code",
   "execution_count": 3,
   "metadata": {
    "collapsed": true
   },
   "outputs": [],
   "source": [
    "ifile = open('baumkataster151217_converted.csv', \"r\")\n",
    "reader = csv.reader(ifile, delimiter=',', quotechar='\"')"
   ]
  },
  {
   "cell_type": "code",
   "execution_count": 4,
   "metadata": {
    "collapsed": true
   },
   "outputs": [],
   "source": [
    "countfile = open('baumkataster151217_converted.csv', \"r\")\n",
    "rowcount = len(list(csv.reader(countfile)))"
   ]
  },
  {
   "cell_type": "code",
   "execution_count": 5,
   "metadata": {
    "collapsed": false,
    "scrolled": true
   },
   "outputs": [
    {
     "name": "stdout",
     "output_type": "stream",
     "text": [
      "     Imported 0 of 151 thousand\n",
      "     Imported 10 of 151 thousand\n",
      "     Imported 20 of 151 thousand\n",
      "     Imported 30 of 151 thousand\n",
      "     Imported 40 of 151 thousand\n",
      "     Imported 50 of 151 thousand\n",
      "     Imported 60 of 151 thousand\n",
      "     Imported 70 of 151 thousand\n",
      "     Imported 80 of 151 thousand\n",
      "     Imported 90 of 151 thousand\n",
      "     Imported 100 of 151 thousand\n",
      "     Imported 110 of 151 thousand\n",
      "     Imported 120 of 151 thousand\n",
      "     Imported 130 of 151 thousand\n",
      "     Imported 140 of 151 thousand\n",
      "     Imported 150 of 151 thousand\n"
     ]
    }
   ],
   "source": [
    "rownum = 0\n",
    "for row in reader:\n",
    "    if rownum % 10000 == 0: print(\"     Imported {} of {} thousand\".format(int(rownum/1000), int(rowcount/1000)))\n",
    "    if rownum == 0:\n",
    "        header = row\n",
    "        #print(header)\n",
    "    else:\n",
    "        bbox = float(row[0]),float(row[1]),float(row[0]),float(row[1])\n",
    "        idx.insert(1, (bbox), obj=row)\n",
    "    rownum += 1"
   ]
  },
  {
   "cell_type": "code",
   "execution_count": null,
   "metadata": {
    "collapsed": true
   },
   "outputs": [],
   "source": []
  }
 ],
 "metadata": {
  "kernelspec": {
   "display_name": "Python 3",
   "language": "python",
   "name": "python3"
  },
  "language_info": {
   "codemirror_mode": {
    "name": "ipython",
    "version": 3
   },
   "file_extension": ".py",
   "mimetype": "text/x-python",
   "name": "python",
   "nbconvert_exporter": "python",
   "pygments_lexer": "ipython3",
   "version": "3.4.3"
  }
 },
 "nbformat": 4,
 "nbformat_minor": 0
}
