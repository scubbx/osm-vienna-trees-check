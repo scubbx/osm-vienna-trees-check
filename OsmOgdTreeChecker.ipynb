{
 "cells": [
  {
   "cell_type": "markdown",
   "metadata": {},
   "source": [
    "# Data Preparation\n",
    "\n",
    "## OGD Tree Cadastre\n",
    "\n",
    "The import of OGD data was performed using the script called *loadTreesIntoCouchdb.py*.\n",
    "The final report of the script was:\n",
    "\n",
    "```\n",
    "finished 154432 iterations\n",
    "left out 9737 trees\n",
    "Leer oder Baumgruppe: 2774\n",
    "noBaum: 6962\n",
    "```\n",
    "\n",
    "## OpenStreetMap Data\n",
    "\n",
    "The import into a CouchDB database was performed using the script called *osmhistory2couchdb.py*. Only nodes were imported since ways and relations are of no use to this analysis but would only slow down the process.\n",
    "\n",
    "# Database\n",
    "\n",
    "A **CouchDB** database is assumed, which is filled with nodes from a **complete history dump**. This means, that recent OSM data is not enough, also modified or deleted nodes are necessary.\n",
    "\n",
    "* OSM data has a property of *source = 'osm'*\n",
    "* OGD data has a property of *source = 'ogd'*\n",
    "\n",
    "## Views\n",
    "\n",
    "The database has the following views:\n",
    "\n",
    "### analysis/visible\n",
    "\n",
    "This view shows whether an OSM node is deleted or not.\n",
    "\n",
    "* map:\n",
    "\n",
    "```javascript\n",
    "function(doc) {\n",
    " if (doc.source == \"osm\") {\n",
    "  emit(doc.data.meta.visible, 1);\n",
    " }\n",
    "}\n",
    "```\n",
    "\n",
    "* reduce:\n",
    "\n",
    "```javascript\n",
    "_count\n",
    "```\n",
    "\n",
    "## Spatial Views\n",
    "\n",
    "The spatial views, using the GeoCouch plugin to CouchDB are:\n",
    "\n"
   ]
  },
  {
   "cell_type": "code",
   "execution_count": null,
   "metadata": {
    "collapsed": true
   },
   "outputs": [],
   "source": []
  },
  {
   "cell_type": "markdown",
   "metadata": {},
   "source": [
    "The python module *couchdb* is NOT used, since we also have to perform spatial queries, which are not supported by this module. Instead the requests are built manually, using the *requests* library."
   ]
  },
  {
   "cell_type": "code",
   "execution_count": 2,
   "metadata": {
    "collapsed": true
   },
   "outputs": [],
   "source": [
    "import requests"
   ]
  },
  {
   "cell_type": "code",
   "execution_count": 4,
   "metadata": {
    "collapsed": true
   },
   "outputs": [],
   "source": [
    "couchdatabase = \"http://gi88.geoinfo.tuwien.ac.at:5984/osmnodesvienna\"\n",
    "spatialview = couchdatabase + \"/_design/analysis/_spatial/allpoints\""
   ]
  },
  {
   "cell_type": "code",
   "execution_count": 23,
   "metadata": {
    "collapsed": true
   },
   "outputs": [],
   "source": [
    "r = requests.get('http://gi88.geoinfo.tuwien.ac.at:5984/osmnodesvienna/_design/analysis/_spatial/allpoints?bbox=0,0,180,90')"
   ]
  },
  {
   "cell_type": "code",
   "execution_count": 22,
   "metadata": {
    "collapsed": false
   },
   "outputs": [
    {
     "data": {
      "text/plain": [
       "'{\"error\":\"unknown_error\",\"reason\":\"undef\"}\\n'"
      ]
     },
     "execution_count": 22,
     "metadata": {},
     "output_type": "execute_result"
    }
   ],
   "source": [
    "r.text"
   ]
  },
  {
   "cell_type": "code",
   "execution_count": null,
   "metadata": {
    "collapsed": true
   },
   "outputs": [],
   "source": []
  }
 ],
 "metadata": {
  "kernelspec": {
   "display_name": "Python 3",
   "language": "python",
   "name": "python3"
  },
  "language_info": {
   "codemirror_mode": {
    "name": "ipython",
    "version": 3
   },
   "file_extension": ".py",
   "mimetype": "text/x-python",
   "name": "python",
   "nbconvert_exporter": "python",
   "pygments_lexer": "ipython3",
   "version": "3.4.3"
  }
 },
 "nbformat": 4,
 "nbformat_minor": 0
}
